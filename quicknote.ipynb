{
 "cells": [
  {
   "cell_type": "markdown",
   "metadata": {},
   "source": [
    "# Preprocessing        "
   ]
  },
  {
   "cell_type": "markdown",
   "metadata": {},
   "source": [
    "## merge $\\rightarrow$ demean $\\rightarrow$ detrend $\\rightarrow$ taper"
   ]
  },
  {
   "cell_type": "code",
   "execution_count": null,
   "metadata": {},
   "outputs": [],
   "source": [
    "# merge->demean->detrend->taper\n",
    "import obspy\n",
    "from obspy import read\n",
    "import os\n",
    "from obspy.io.sac import attach_paz\n",
    "from obspy.signal.invsim import corn_freq_2_paz\n",
    "from obspy.signal import PPSD\n",
    "import glob\n",
    "# Define the directory containing your seismic data files (EPZ).\n",
    "data_directory = '/raid1/SM_data/archive/2023/TW/SM01/EPZ.D/'\n",
    "output_dir = '/raid1/SM_data/archive/2023/TW/SM01_ppreprocessing'\n",
    "os.makedirs(output_dir, exist_ok=True)\n",
    "# exist_ok, when dir is exist that won't exist error.\n",
    "\n",
    "# Use glob to find all files with a specific extension (e.g., .mseed) in the directory.\n",
    "data_files = glob.glob(os.path.join(data_directory, '*EPZ*'))\n",
    "\n",
    "# Loop through each data file and process them.\n",
    "for data_file in data_files:\n",
    "    # Read the seismic data file into a Stream object.\n",
    "    st = read(data_file)\n",
    "\n",
    "    # Merge traces within the Stream if there is more than one trace.\n",
    "    if len(st) > 1:\n",
    "        st = st.merge(method=1, fill_value=0)\n",
    "        # method 1: more flexible, but for our purpose there's no difference between using method 0 or 1.\n",
    "        # filled = 0, that's a default, we don't want to interpolate the value.\n",
    "    # Preprocess the Stream.\n",
    "    st.detrend('demean') # mean of data is subtracted.\n",
    "    st.detrend('linear') # using least square to find a fitting line and subtract it.\n",
    "    st.taper(type='hann', max_percentage=0.05) # to make 5 % waveform in both endpoint be flattened by hanning window.\n",
    "\n",
    "    # Define the output file path and save the preprocessed Stream.\n",
    "    output_file = os.path.join(output_dir, os.path.basename(data_file))\n",
    "    st.write(output_file, format='SAC')\n",
    "\n",
    "print(\"Preprocessing and saving completed.\")"
   ]
  },
  {
   "cell_type": "markdown",
   "metadata": {},
   "source": [
    "## instrument response     "
   ]
  },
  {
   "cell_type": "markdown",
   "metadata": {},
   "source": [
    "### attach_paz()    $\\rightarrow$ no need to use, just for understanding    \n",
    "Examples from [here!](<https://docs.obspy.org/packages/autogen/obspy.io.sac.sacpz.attach_paz.html#obspy.io.sac.sacpz.attach_paz>)"
   ]
  },
  {
   "cell_type": "code",
   "execution_count": 3,
   "metadata": {},
   "outputs": [
    {
     "data": {
      "text/plain": [
       "         network: \n",
       "         station: \n",
       "        location: \n",
       "         channel: \n",
       "       starttime: 1970-01-01T00:00:00.000000Z\n",
       "         endtime: 1970-01-01T00:00:00.000000Z\n",
       "   sampling_rate: 1.0\n",
       "           delta: 1.0\n",
       "            npts: 0\n",
       "           calib: 1.0\n",
       "             paz: AttribDict({'seismometer_gain': 1.0, 'digitizer_gain': 1.0, 'poles': [(-0.14859733251479723+0.14859733251479723j), (-0.14859733251479723-0.14859733251479723j), (-246.9360940759956+0j), (-48.6886542727469+0j), (-336.76553777568074+136.6555105199717j), (-336.76553777568074-136.6555105199717j)], 'zeros': [(-31.61698846572768+0j), 0j, 0j], 'sensitivity': 1.0, 'gain': 2.16e+18})"
      ]
     },
     "execution_count": 3,
     "metadata": {},
     "output_type": "execute_result"
    }
   ],
   "source": [
    "from obspy import Trace\n",
    "from obspy.io.sac import attach_paz\n",
    "import io\n",
    "tr = Trace()\n",
    "f = io.StringIO(\"\"\"ZEROS 3 \n",
    "-5.032 0.0\n",
    "POLES 6\n",
    "-0.02365 0.02365\n",
    "-0.02365 -0.02365\n",
    "-39.3011 0.\n",
    "-7.74904 0.\n",
    "-53.5979 21.7494\n",
    "-53.5979 -21.7494\n",
    "CONSTANT 2.16e18\"\"\")\n",
    "# using triple quote to create multi-line string\n",
    "attach_paz(tr, f,torad=True) \n",
    "# actually I don't understand the torad, it's not important enough to know.\n",
    "# the importance of using attach_paz just to attach the AttribDict onto the stats.\n",
    "tr.stats\n",
    "# using .stats to confirm "
   ]
  },
  {
   "cell_type": "markdown",
   "metadata": {},
   "source": [
    "### corn_freq_2_paz()    \n",
    "the function below is provided by the [ObsPy.org](<https://docs.obspy.org/_modules/obspy/signal/invsim.html#corn_freq_2_paz>)"
   ]
  },
  {
   "cell_type": "code",
   "execution_count": null,
   "metadata": {},
   "outputs": [],
   "source": [
    "import math\n",
    "import numpy as np\n",
    "def corn_freq_2_paz(fc, damp=0.707):\n",
    "    \"\"\"\n",
    "    Convert corner frequency and damping to poles and zeros.\n",
    "\n",
    "    2 zeros at position (0j, 0j) are given as output  (m/s).\n",
    "\n",
    "    :param fc: Corner frequency\n",
    "    :param damping: Corner frequency\n",
    "    :return: Dictionary containing poles, zeros and gain\n",
    "    \"\"\"\n",
    "    poles = [-(damp + math.sqrt(1 - damp ** 2) * 1j) * 2 * np.pi * fc,\n",
    "             -(damp - math.sqrt(1 - damp ** 2) * 1j) * 2 * np.pi * fc]\n",
    "    return {'poles': poles, 'zeros': [0j, 0j], 'gain': 1, 'sensitivity': 1.0}\n",
    "\n",
    "# As the function shows, only the poles will be converted, other keys are fixed."
   ]
  },
  {
   "cell_type": "markdown",
   "metadata": {},
   "source": [
    "### simulate()     \n",
    "the most important part, giving a new instrument response parameter and conducting the simulation."
   ]
  },
  {
   "cell_type": "code",
   "execution_count": null,
   "metadata": {},
   "outputs": [],
   "source": [
    "from obspy import read\n",
    "from obspy.signal.invsim import corn_freq_2_paz\n",
    "st = read()\n",
    "paz_sts2 = {'poles': [-0.037004+0.037016j, -0.037004-0.037016j,\n",
    "                      -251.33+0j,\n",
    "                      -131.04-467.29j, -131.04+467.29j],\n",
    "            'zeros': [0j, 0j],\n",
    "            'gain': 60077000.0,\n",
    "            'sensitivity': 2516778400.0}\n",
    "paz_1hz = corn_freq_2_paz(1.0, damp=0.707)\n",
    "st.simulate(paz_remove=paz_sts2, paz_simulate=paz_1hz) # The instrment response is removed by given values, and simulate in a value defined by corn_freq_2_paz\n",
    "\n",
    "st.plot()  "
   ]
  },
  {
   "cell_type": "markdown",
   "metadata": {},
   "source": [
    "# Problem solver\n",
    "1. I ran and wrote the data into my directory throught the loop iterating, however, it stopped at a point and my data was truncated. How can I avoid to ran again the data I already ran, in other words, can I ignore the data I already ran just like the os.makesdir(exist_ok=True) to pass it?\n",
    "2.  I set up a loop to acquire the data from each station in a specific threshold, for example, only retrive the data that end with 1 to 10(file_1.txt,file_2.txt,...file_10.txt). My setting is ok that I can sieve the data, however, not every station have all 1 to 10 data, the empty list was generated when I lack of the data, and I want to ignore that, if I only have file_1.txt to file_4.txt, it can automatically stop to search further data, maybe I can use try to solve it?    \n",
    "okay I just fix it by using the try and except.\n",
    "3. Learning about how to use logging to document the error and the progress.   "
   ]
  },
  {
   "cell_type": "code",
   "execution_count": 1,
   "metadata": {},
   "outputs": [
    {
     "data": {
      "text/plain": [
       "         network: TW\n",
       "         station: SM01\n",
       "        location: 00\n",
       "         channel: EPZ\n",
       "       starttime: 2023-08-10T00:00:00.720000Z\n",
       "         endtime: 2023-08-11T00:00:00.530000Z\n",
       "   sampling_rate: 100.0\n",
       "           delta: 0.01\n",
       "            npts: 8639982\n",
       "           calib: 1.0\n",
       "         _format: SAC\n",
       "             sac: AttribDict({'delta': 0.01, 'depmin': -3.0933045e-08, 'depmax': 3.2719115e-08, 'scale': 1.0, 'b': 0.0, 'e': 86399.805, 'depmen': 2.628723e-13, 'nzyear': 2023, 'nzjday': 222, 'nzhour': 0, 'nzmin': 0, 'nzsec': 0, 'nzmsec': 720, 'nvhdr': 6, 'npts': 8639982, 'iftype': 1, 'iztype': 9, 'leven': 1, 'lpspol': 1, 'lovrok': 1, 'lcalda': 0, 'kstnm': 'SM01', 'khole': '00', 'kcmpnm': 'EPZ', 'knetwk': 'TW'})"
      ]
     },
     "execution_count": 1,
     "metadata": {},
     "output_type": "execute_result"
    }
   ],
   "source": [
    "from obspy import read\n",
    "path = '/raid1/SM_data/archive/2023/TW/remove_resp/SM01/TW.SM01.00.EPZ.D.2023.222'\n",
    "st = read(path)\n",
    "st[0].stats"
   ]
  },
  {
   "cell_type": "code",
   "execution_count": null,
   "metadata": {},
   "outputs": [],
   "source": []
  }
 ],
 "metadata": {
  "kernelspec": {
   "display_name": "base",
   "language": "python",
   "name": "python3"
  },
  "language_info": {
   "codemirror_mode": {
    "name": "ipython",
    "version": 3
   },
   "file_extension": ".py",
   "mimetype": "text/x-python",
   "name": "python",
   "nbconvert_exporter": "python",
   "pygments_lexer": "ipython3",
   "version": "3.11.4"
  },
  "orig_nbformat": 4
 },
 "nbformat": 4,
 "nbformat_minor": 2
}
