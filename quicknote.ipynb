{
 "cells": [
  {
   "cell_type": "markdown",
   "metadata": {},
   "source": [
    "### just a single directory preprocessing    \n",
    "merge $\\rightarrow$ demean $\\rightarrow$ detrend $\\rightarrow$ taper"
   ]
  },
  {
   "cell_type": "code",
   "execution_count": null,
   "metadata": {},
   "outputs": [],
   "source": [
    "# merge->demean->detrend->taper\n",
    "import obspy\n",
    "from obspy import read\n",
    "import os\n",
    "from obspy.io.sac import attach_paz\n",
    "from obspy.signal.invsim import corn_freq_2_paz\n",
    "from obspy.signal import PPSD\n",
    "import glob\n",
    "# Define the directory containing your seismic data files (EPZ).\n",
    "data_directory = '/raid1/SM_data/archive/2023/TW/SM01/EPZ.D/'\n",
    "output_dir = '/raid1/SM_data/archive/2023/TW/SM01_ppreprocessing'\n",
    "os.makedirs(output_dir, exist_ok=True)\n",
    "# exist_ok, when dir is exist that won't exist error.\n",
    "\n",
    "# Use glob to find all files with a specific extension (e.g., .mseed) in the directory.\n",
    "data_files = glob.glob(os.path.join(data_directory, '*EPZ*'))\n",
    "\n",
    "# Loop through each data file and process them.\n",
    "for data_file in data_files:\n",
    "    # Read the seismic data file into a Stream object.\n",
    "    st = read(data_file)\n",
    "\n",
    "    # Merge traces within the Stream if there is more than one trace.\n",
    "    if len(st) > 1:\n",
    "        st = st.merge(method=1, fill_value=0)\n",
    "        # method 1: more flexible, but for our purpose there's no difference between using method 0 or 1.\n",
    "        # filled = 0, that's a default, we don't want to interpolate the value.\n",
    "    # Preprocess the Stream.\n",
    "    st.detrend('demean')\n",
    "    st.detrend('linear')\n",
    "    st.taper(type='hann', max_percentage=0.05)\n",
    "\n",
    "    # Define the output file path and save the preprocessed Stream.\n",
    "    output_file = os.path.join(output_dir, os.path.basename(data_file))\n",
    "    st.write(output_file, format='SAC')\n",
    "\n",
    "print(\"Preprocessing and saving completed.\")"
   ]
  },
  {
   "cell_type": "markdown",
   "metadata": {},
   "source": [
    "## instrument response function, method and parameter   \n",
    "### attach_paz()    \n",
    "Examples from [here!](<https://docs.obspy.org/packages/autogen/obspy.io.sac.sacpz.attach_paz.html#obspy.io.sac.sacpz.attach_paz>)"
   ]
  },
  {
   "cell_type": "code",
   "execution_count": 3,
   "metadata": {},
   "outputs": [
    {
     "data": {
      "text/plain": [
       "         network: \n",
       "         station: \n",
       "        location: \n",
       "         channel: \n",
       "       starttime: 1970-01-01T00:00:00.000000Z\n",
       "         endtime: 1970-01-01T00:00:00.000000Z\n",
       "   sampling_rate: 1.0\n",
       "           delta: 1.0\n",
       "            npts: 0\n",
       "           calib: 1.0\n",
       "             paz: AttribDict({'seismometer_gain': 1.0, 'digitizer_gain': 1.0, 'poles': [(-0.14859733251479723+0.14859733251479723j), (-0.14859733251479723-0.14859733251479723j), (-246.9360940759956+0j), (-48.6886542727469+0j), (-336.76553777568074+136.6555105199717j), (-336.76553777568074-136.6555105199717j)], 'zeros': [(-31.61698846572768+0j), 0j, 0j], 'sensitivity': 1.0, 'gain': 2.16e+18})"
      ]
     },
     "execution_count": 3,
     "metadata": {},
     "output_type": "execute_result"
    }
   ],
   "source": [
    "from obspy import Trace\n",
    "from obspy.io.sac import attach_paz\n",
    "import io\n",
    "tr = Trace()\n",
    "f = io.StringIO(\"\"\"ZEROS 3 \n",
    "-5.032 0.0\n",
    "POLES 6\n",
    "-0.02365 0.02365\n",
    "-0.02365 -0.02365\n",
    "-39.3011 0.\n",
    "-7.74904 0.\n",
    "-53.5979 21.7494\n",
    "-53.5979 -21.7494\n",
    "CONSTANT 2.16e18\"\"\")\n",
    "# using triple quote to create multi-line string\n",
    "attach_paz(tr, f,torad=True) \n",
    "# actually I don't understand the torad, it's not important enough to know.\n",
    "# the importance of using attach_paz just to attach the AttribDict onto the stats.\n",
    "tr.stats\n",
    "# using .stats to confirm "
   ]
  },
  {
   "cell_type": "markdown",
   "metadata": {},
   "source": [
    "### corn_frq_2_paz() "
   ]
  },
  {
   "cell_type": "code",
   "execution_count": null,
   "metadata": {},
   "outputs": [],
   "source": []
  },
  {
   "cell_type": "markdown",
   "metadata": {},
   "source": [
    "### simulate()  "
   ]
  }
 ],
 "metadata": {
  "kernelspec": {
   "display_name": "base",
   "language": "python",
   "name": "python3"
  },
  "language_info": {
   "codemirror_mode": {
    "name": "ipython",
    "version": 3
   },
   "file_extension": ".py",
   "mimetype": "text/x-python",
   "name": "python",
   "nbconvert_exporter": "python",
   "pygments_lexer": "ipython3",
   "version": "3.11.4"
  },
  "orig_nbformat": 4
 },
 "nbformat": 4,
 "nbformat_minor": 2
}
